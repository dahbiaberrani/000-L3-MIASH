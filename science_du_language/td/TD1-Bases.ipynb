{
 "cells": [
  {
   "cell_type": "markdown",
   "id": "5acff37c",
   "metadata": {},
   "source": [
    "# TD 1 : bases de la manipulation de textes en Python\n",
    "\n",
    "Dans ce premier TD nous allons voir (ou revoir) les opérations fondamentales de manipulation des chaînes de caractères et des fichiers de texte en Python 3. Ces opérations de base seront nécessaires pour la bonne utilisation des bibliothèques de TAL que nous verrons dans les prochaines séances"
   ]
  },
  {
   "cell_type": "markdown",
   "id": "831a8a2f",
   "metadata": {},
   "source": [
    "## Première partie : le module `str`\n",
    "\n",
    "Les chaînes de caractère en Python3 sont des objets de la classe fondamentale `str`. Elle est décrite dans la documentation officielle ici :\n",
    "https://docs.python.org/3/library/stdtypes.html#text-sequence-type-str"
   ]
  },
  {
   "cell_type": "markdown",
   "id": "d9a2e02b",
   "metadata": {},
   "source": [
    "### Exercice 1 : \n",
    "a) Affecter la variable chaine avec  le texte suivant :  \n",
    "    `C'est un \"exemple\" ?`\n",
    "\n",
    "b) Affecter la variable chaine avec le texte suivant :  \n",
    "`C'est un \"exemple\" !`  \n",
    "`Mais sur deux lignes cette fois !`\n",
    "\n"
   ]
  },
  {
   "cell_type": "code",
   "execution_count": null,
   "id": "a7240aaf",
   "metadata": {},
   "outputs": [],
   "source": []
  },
  {
   "cell_type": "markdown",
   "id": "57c57085",
   "metadata": {},
   "source": [
    "### Exercice 2"
   ]
  },
  {
   "cell_type": "markdown",
   "id": "0ee2a6fc",
   "metadata": {},
   "source": [
    "Ecrivez une fonction qui, pour une chaîne `c` en argument, affiche un message qui donne les informations suivantes :\n",
    "- la longueur de la chaîne en nombre de caractères\n",
    "- si la chaîne contient au moins un espace ou aucun\n",
    "- si les lettres qui composent la chaîne sont toutes en majuscules ou non"
   ]
  },
  {
   "cell_type": "code",
   "execution_count": null,
   "id": "53a9fd9a",
   "metadata": {},
   "outputs": [],
   "source": []
  },
  {
   "cell_type": "markdown",
   "id": "14f880ea",
   "metadata": {},
   "source": [
    "### Exercice 3\n",
    "Ecrivez une fonction qui, pour une chaîne c en argument, indique s'il s'agit ou non d'un palindrome, *i.e.* d'une chaîne qui est inchangée quand on l'inverse comme \"radar\", \"kayak\" ou \"Bob, ô Bob !\". Notez qu'on ne tient pas compte des caractères autres que les lettres."
   ]
  },
  {
   "cell_type": "code",
   "execution_count": null,
   "id": "e303f9e5",
   "metadata": {},
   "outputs": [],
   "source": []
  },
  {
   "cell_type": "markdown",
   "id": "3ec3723e",
   "metadata": {},
   "source": [
    "## Deuxième partie : manipulation des fichiers texte\n",
    "\n",
    "Nous allons avoir besoin de manipuler des fichiers texte en lecture et en écriture. Pour cela il est nécessaire de savoir ouvrir un fichier (fonction [`open`](https://docs.python.org/3/library/functions.html#open)) et de le fermer (`close()`). Pour un fichier ouvert en lecture, il faut que vous sachiez le parcourir ligne par ligne (itération directe sur son contenu par une boucle [`for`](https://docs.python.org/3/tutorial/controlflow.html#for-statements)) ou accéder à la totalité de son contenu comme une liste de chaînes (méthode `read()`). Pour un fichier ouvert en écriture, il faut que vous sachiez y écrire des chaînes (`print` ou méthode `write()`).  \n",
    "L'essentiel est rappelé ici : https://docs.python.org/3/tutorial/inputoutput.html#reading-and-writing-files"
   ]
  },
  {
   "cell_type": "markdown",
   "id": "9642846f",
   "metadata": {},
   "source": [
    "### Exercice 4\n",
    "\n",
    "Ecrivez un bloc de code qui ouvre en lecture le fichier `corpusTest.txt` et :\n",
    "- calcule le nombre de lignes qu'il contient\n",
    "- calcule le nombre de lignes vides qu'il contient\n",
    "- calcule sa taille totale en nombre de caractères, sans compter les caractère de fins de ligne\n",
    "- crée un fichier `debutCorpusTest.txt` et y écrit les 2 premières et les 2 dernières lignes de `corpusTest.txt`"
   ]
  },
  {
   "cell_type": "code",
   "execution_count": null,
   "id": "b72cb30d",
   "metadata": {},
   "outputs": [],
   "source": []
  },
  {
   "cell_type": "markdown",
   "id": "fcfe279b",
   "metadata": {},
   "source": [
    "## Troisième partie : recherche dans un fichier de texte\n",
    "\n",
    "Vous allez effectuer un premier traitement simple du contenu d'un fichier de texte afin d'y rechercher des séquences spécifiques. Comme il s'agit de texte brut non traité, c'est à vous de gérer au mieux les variations et les différents contextes dans lesquels les cibles peuvent apparaître.  \n",
    "\n",
    "Vous pouvez faire appel à quelques fonctionnalités de Python :\n",
    "\n",
    "- la fonction `str.split()` permet de découper une ligne, par défaut en se basant sur les espaces\n",
    "- la fonction `str.sub()` permet d'extraire une sous-chaîne de caractères en se basant sur la position (rang) des caractères\n",
    "\n",
    "Enfin, si vous connaissez la syntaxe des expressions régulières, vous pouvez utiliser le module `re` et notamment la fonction `re.findall()`. *NOTE :* si vous n'avez jamais utilisé les expressions régulières, sachez qu'elles requièrent une phase d'apprentissage."
   ]
  },
  {
   "cell_type": "markdown",
   "id": "f8a123a2",
   "metadata": {},
   "source": [
    "### Exercice 5\n",
    "\n",
    "Ecrivez un bloc de code Python qui va, dans le fichier `corpusTest.txt`, trouver tous les mots qui sont des palindromes. Limitez la sortie aux mots qui commencent par une lettre."
   ]
  },
  {
   "cell_type": "code",
   "execution_count": null,
   "id": "8969c03f",
   "metadata": {},
   "outputs": [],
   "source": []
  },
  {
   "cell_type": "markdown",
   "id": "4f169c69",
   "metadata": {},
   "source": [
    "### Exercice 6\n",
    "\n",
    "Le fichier `iFixit_50.txt` contient un ensemble de 50 textes issus du site Web https://fr.ifixit.com/ dédié à la réparation des appareils électroniques. Ces textes en français décrivent en détails différentes procédures.\n",
    "\n",
    "Ecrivez un bloc de code Python qui va, dans ce fichier, identifier et afficher toutes les lignes de texte qui expriment un risque qu'une des étapes se passe mal. Voici quelques exemples :\n",
    "- *Arrondissez les coins. Les angles **risquent sinon de se décoller** plus facilement.*\n",
    "- *Vous **risquez de heurter** la caméra et le capteur de proximité logés ici.*\n",
    "- *Quand vous débranchez des connecteurs de cette sorte, faites **attention à ne pas arracher** les petits composants montés en surface autour de la prise.*\n",
    "- *Faites **attention de ne pas surchauffer** l'iOpener pendant la réparation. En cas de surchauffe, l'iOpener risque d'exploser.*\n",
    "- **Veillez à ne pas enfoncer** *le médiator de plus d'un cm pour éviter d'endommager le dissipateur thermique qui entoure la bosse de la caméra.*\n",
    "- **Ne soulevez pas le SSD** *de plus de 1,2 cm, cela pourrait endommager le SSD ou sa prise sur la carte mère.*"
   ]
  },
  {
   "cell_type": "code",
   "execution_count": null,
   "id": "ca4add08",
   "metadata": {},
   "outputs": [],
   "source": []
  }
 ],
 "metadata": {
  "kernelspec": {
   "display_name": "Python 3",
   "language": "python",
   "name": "python3"
  },
  "language_info": {
   "codemirror_mode": {
    "name": "ipython",
    "version": 3
   },
   "file_extension": ".py",
   "mimetype": "text/x-python",
   "name": "python",
   "nbconvert_exporter": "python",
   "pygments_lexer": "ipython3",
   "version": "3.9.5"
  }
 },
 "nbformat": 4,
 "nbformat_minor": 5
}
